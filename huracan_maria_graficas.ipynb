{
 "cells": [
  {
   "cell_type": "markdown",
   "id": "5466ced1",
   "metadata": {},
   "source": [
    "## Huracán María"
   ]
  },
  {
   "cell_type": "markdown",
   "id": "23d70cfd",
   "metadata": {},
   "source": [
    "Generar una gráfica de la trayectoria del huracán. "
   ]
  },
  {
   "cell_type": "code",
   "execution_count": 1,
   "id": "b93593cb",
   "metadata": {},
   "outputs": [],
   "source": [
    "import pandas as pd"
   ]
  },
  {
   "cell_type": "code",
   "execution_count": 2,
   "id": "0d07f97f",
   "metadata": {},
   "outputs": [
    {
     "data": {
      "text/html": [
       "<div>\n",
       "<style scoped>\n",
       "    .dataframe tbody tr th:only-of-type {\n",
       "        vertical-align: middle;\n",
       "    }\n",
       "\n",
       "    .dataframe tbody tr th {\n",
       "        vertical-align: top;\n",
       "    }\n",
       "\n",
       "    .dataframe thead th {\n",
       "        text-align: right;\n",
       "    }\n",
       "</style>\n",
       "<table border=\"1\" class=\"dataframe\">\n",
       "  <thead>\n",
       "    <tr style=\"text-align: right;\">\n",
       "      <th></th>\n",
       "      <th>categoria</th>\n",
       "      <th>descripcion</th>\n",
       "      <th>color</th>\n",
       "      <th>nudos_min</th>\n",
       "      <th>nudos_max</th>\n",
       "    </tr>\n",
       "  </thead>\n",
       "  <tbody>\n",
       "    <tr>\n",
       "      <th>0</th>\n",
       "      <td>TD</td>\n",
       "      <td>Depresion Tropical</td>\n",
       "      <td>deepskyblue</td>\n",
       "      <td>0</td>\n",
       "      <td>33</td>\n",
       "    </tr>\n",
       "    <tr>\n",
       "      <th>1</th>\n",
       "      <td>TS</td>\n",
       "      <td>Tormenta Tropical</td>\n",
       "      <td>lime</td>\n",
       "      <td>34</td>\n",
       "      <td>63</td>\n",
       "    </tr>\n",
       "    <tr>\n",
       "      <th>2</th>\n",
       "      <td>C1</td>\n",
       "      <td>Categoria 1</td>\n",
       "      <td>yellow</td>\n",
       "      <td>64</td>\n",
       "      <td>82</td>\n",
       "    </tr>\n",
       "    <tr>\n",
       "      <th>3</th>\n",
       "      <td>C2</td>\n",
       "      <td>Categoria 2</td>\n",
       "      <td>gold</td>\n",
       "      <td>83</td>\n",
       "      <td>95</td>\n",
       "    </tr>\n",
       "    <tr>\n",
       "      <th>4</th>\n",
       "      <td>C3</td>\n",
       "      <td>Categoria 3</td>\n",
       "      <td>orange</td>\n",
       "      <td>96</td>\n",
       "      <td>113</td>\n",
       "    </tr>\n",
       "    <tr>\n",
       "      <th>5</th>\n",
       "      <td>C4</td>\n",
       "      <td>Categoria 4</td>\n",
       "      <td>red</td>\n",
       "      <td>114</td>\n",
       "      <td>135</td>\n",
       "    </tr>\n",
       "    <tr>\n",
       "      <th>6</th>\n",
       "      <td>C5</td>\n",
       "      <td>Categoria 5</td>\n",
       "      <td>magenta</td>\n",
       "      <td>136</td>\n",
       "      <td>500</td>\n",
       "    </tr>\n",
       "  </tbody>\n",
       "</table>\n",
       "</div>"
      ],
      "text/plain": [
       "  categoria         descripcion        color  nudos_min  nudos_max\n",
       "0        TD  Depresion Tropical  deepskyblue          0         33\n",
       "1        TS   Tormenta Tropical         lime         34         63\n",
       "2        C1         Categoria 1       yellow         64         82\n",
       "3        C2         Categoria 2         gold         83         95\n",
       "4        C3         Categoria 3       orange         96        113\n",
       "5        C4         Categoria 4          red        114        135\n",
       "6        C5         Categoria 5      magenta        136        500"
      ]
     },
     "execution_count": 2,
     "metadata": {},
     "output_type": "execute_result"
    }
   ],
   "source": [
    "dtEscala = pd.read_excel('escala_saffir_simpson.xlsx')\n",
    "dtEscala"
   ]
  },
  {
   "cell_type": "code",
   "execution_count": 19,
   "id": "dc07e390",
   "metadata": {},
   "outputs": [
    {
     "data": {
      "text/html": [
       "<div>\n",
       "<style scoped>\n",
       "    .dataframe tbody tr th:only-of-type {\n",
       "        vertical-align: middle;\n",
       "    }\n",
       "\n",
       "    .dataframe tbody tr th {\n",
       "        vertical-align: top;\n",
       "    }\n",
       "\n",
       "    .dataframe thead th {\n",
       "        text-align: right;\n",
       "    }\n",
       "</style>\n",
       "<table border=\"1\" class=\"dataframe\">\n",
       "  <thead>\n",
       "    <tr style=\"text-align: right;\">\n",
       "      <th></th>\n",
       "      <th>LATITUD</th>\n",
       "      <th>LONGITUD</th>\n",
       "      <th>NUDOS</th>\n",
       "      <th>PRESION</th>\n",
       "      <th>FECHA_HORA</th>\n",
       "    </tr>\n",
       "  </thead>\n",
       "  <tbody>\n",
       "    <tr>\n",
       "      <th>0</th>\n",
       "      <td>12.2</td>\n",
       "      <td>-50.5</td>\n",
       "      <td>35</td>\n",
       "      <td>1008</td>\n",
       "      <td>2005-09-16 15:00:00+00:00</td>\n",
       "    </tr>\n",
       "    <tr>\n",
       "      <th>1</th>\n",
       "      <td>11.9</td>\n",
       "      <td>-51.6</td>\n",
       "      <td>35</td>\n",
       "      <td>1006</td>\n",
       "      <td>2005-09-16 18:00:00+00:00</td>\n",
       "    </tr>\n",
       "    <tr>\n",
       "      <th>2</th>\n",
       "      <td>12.3</td>\n",
       "      <td>-52.6</td>\n",
       "      <td>50</td>\n",
       "      <td>1002</td>\n",
       "      <td>2005-09-16 21:00:00+00:00</td>\n",
       "    </tr>\n",
       "    <tr>\n",
       "      <th>3</th>\n",
       "      <td>12.4</td>\n",
       "      <td>-53.0</td>\n",
       "      <td>50</td>\n",
       "      <td>1002</td>\n",
       "      <td>2005-09-17 00:00:00+00:00</td>\n",
       "    </tr>\n",
       "    <tr>\n",
       "      <th>4</th>\n",
       "      <td>12.5</td>\n",
       "      <td>-53.7</td>\n",
       "      <td>50</td>\n",
       "      <td>1002</td>\n",
       "      <td>2005-09-17 03:00:00+00:00</td>\n",
       "    </tr>\n",
       "  </tbody>\n",
       "</table>\n",
       "</div>"
      ],
      "text/plain": [
       "   LATITUD  LONGITUD  NUDOS  PRESION                FECHA_HORA\n",
       "0     12.2     -50.5     35     1008 2005-09-16 15:00:00+00:00\n",
       "1     11.9     -51.6     35     1006 2005-09-16 18:00:00+00:00\n",
       "2     12.3     -52.6     50     1002 2005-09-16 21:00:00+00:00\n",
       "3     12.4     -53.0     50     1002 2005-09-17 00:00:00+00:00\n",
       "4     12.5     -53.7     50     1002 2005-09-17 03:00:00+00:00"
      ]
     },
     "execution_count": 19,
     "metadata": {},
     "output_type": "execute_result"
    }
   ],
   "source": [
    "dtHu = pd.read_csv('huracan_maria.csv',sep=';')\n",
    "dtHu['FECHA_HORA'] = \\\n",
    "pd.to_datetime(dtHu.FECHA + \" 2005 \" + dtHu.HORA, \\\n",
    "              infer_datetime_format=True)\n",
    "dtHu.drop(columns=['FECHA','HORA'],inplace=True)\n",
    "dtHu.head()"
   ]
  },
  {
   "cell_type": "code",
   "execution_count": 20,
   "id": "b3c671ee",
   "metadata": {},
   "outputs": [
    {
     "name": "stdout",
     "output_type": "stream",
     "text": [
      "<class 'pandas.core.frame.DataFrame'>\n",
      "RangeIndex: 120 entries, 0 to 119\n",
      "Data columns (total 5 columns):\n",
      " #   Column      Non-Null Count  Dtype              \n",
      "---  ------      --------------  -----              \n",
      " 0   LATITUD     120 non-null    float64            \n",
      " 1   LONGITUD    120 non-null    float64            \n",
      " 2   NUDOS       120 non-null    int64              \n",
      " 3   PRESION     120 non-null    int64              \n",
      " 4   FECHA_HORA  120 non-null    datetime64[ns, UTC]\n",
      "dtypes: datetime64[ns, UTC](1), float64(2), int64(2)\n",
      "memory usage: 4.8 KB\n"
     ]
    }
   ],
   "source": [
    "dtHu.info()"
   ]
  },
  {
   "cell_type": "code",
   "execution_count": 39,
   "id": "ead13426",
   "metadata": {},
   "outputs": [
    {
     "data": {
      "text/plain": [
       "15    C3\n",
       "16    C4\n",
       "55    C4\n",
       "56    C3\n",
       "57    C3\n",
       "58    C3\n",
       "59    C4\n",
       "60    C4\n",
       "61    C4\n",
       "62    C4\n",
       "63    C4\n",
       "64    C4\n",
       "76    C4\n",
       "77    C4\n",
       "78    C4\n",
       "79    C4\n",
       "80    C3\n",
       "81    C3\n",
       "82    C3\n",
       "83    C3\n",
       "Name: CATEGORIA, dtype: object"
      ]
     },
     "execution_count": 39,
     "metadata": {},
     "output_type": "execute_result"
    }
   ],
   "source": [
    "dtHu['CATEGORIA'] = ''\n",
    "dtHu['COLOR'] = ''\n",
    "for row in dtEscala.iterrows():\n",
    "    _, fila = row\n",
    "    n_min = fila['nudos_min']\n",
    "    n_max = fila['nudos_max']\n",
    "    color = fila['color']\n",
    "    cat = fila['categoria']\n",
    "    \n",
    "    dtHu.loc[(dtHu.NUDOS >= n_min) & \\\n",
    "                   (dtHu.NUDOS <= n_max),\\\n",
    "    ['CATEGORIA','COLOR']]=cat,color\n",
    "    \n",
    "dtHu.loc[(dtHu.NUDOS >= 100) & (dtHu.NUDOS <= 120),'CATEGORIA']   "
   ]
  },
  {
   "cell_type": "markdown",
   "id": "37f4668b",
   "metadata": {},
   "source": [
    "Generar una gráfica con la evolución de la velocidad y presión"
   ]
  },
  {
   "cell_type": "code",
   "execution_count": null,
   "id": "49b6ba0f",
   "metadata": {},
   "outputs": [],
   "source": []
  }
 ],
 "metadata": {
  "kernelspec": {
   "display_name": "Python 3 (ipykernel)",
   "language": "python",
   "name": "python3"
  },
  "language_info": {
   "codemirror_mode": {
    "name": "ipython",
    "version": 3
   },
   "file_extension": ".py",
   "mimetype": "text/x-python",
   "name": "python",
   "nbconvert_exporter": "python",
   "pygments_lexer": "ipython3",
   "version": "3.9.13"
  }
 },
 "nbformat": 4,
 "nbformat_minor": 5
}
