{
 "cells": [
  {
   "cell_type": "markdown",
   "id": "94b8d442",
   "metadata": {},
   "source": [
    "### Generadores en Python"
   ]
  },
  {
   "cell_type": "markdown",
   "id": "571e5cbf",
   "metadata": {},
   "source": [
    "Ejemplos de generadores: expr. Generadoras y Funciones Generadoras"
   ]
  },
  {
   "cell_type": "code",
   "execution_count": 1,
   "id": "af78f09a",
   "metadata": {},
   "outputs": [],
   "source": [
    "from random import randint"
   ]
  },
  {
   "cell_type": "code",
   "execution_count": 3,
   "id": "bbc07840",
   "metadata": {},
   "outputs": [
    {
     "data": {
      "text/plain": [
       "[2, 82, 22, 33, 37, 42, 2, 36, 54, 37]"
      ]
     },
     "execution_count": 3,
     "metadata": {},
     "output_type": "execute_result"
    }
   ],
   "source": [
    "L = [randint(1,100) for _ in range(10)]\n",
    "L"
   ]
  },
  {
   "cell_type": "code",
   "execution_count": 4,
   "id": "24c8d449",
   "metadata": {},
   "outputs": [
    {
     "data": {
      "text/plain": [
       "[2, 82, 22, 33, 37, 42, 2, 36, 54, 37]"
      ]
     },
     "execution_count": 4,
     "metadata": {},
     "output_type": "execute_result"
    }
   ],
   "source": [
    "L"
   ]
  },
  {
   "cell_type": "code",
   "execution_count": 5,
   "id": "d70b0ed1",
   "metadata": {},
   "outputs": [
    {
     "data": {
      "text/plain": [
       "<generator object <genexpr> at 0x7fec506762e0>"
      ]
     },
     "execution_count": 5,
     "metadata": {},
     "output_type": "execute_result"
    }
   ],
   "source": [
    "g = (randint(1,100) for _ in range(10))\n",
    "g"
   ]
  },
  {
   "cell_type": "code",
   "execution_count": 6,
   "id": "c0bab15e",
   "metadata": {},
   "outputs": [],
   "source": [
    "def esPrimo(n):\n",
    "    for i in range(2,n):\n",
    "        if n % i == 0:\n",
    "            return False\n",
    "    return True"
   ]
  },
  {
   "cell_type": "code",
   "execution_count": 7,
   "id": "94933cbf",
   "metadata": {},
   "outputs": [],
   "source": [
    "def lista(ini, fin, salto=1):\n",
    "    L = []\n",
    "    for i in range(ini, fin, salto):\n",
    "        if esPrimo(i):\n",
    "            print('Lista encuentra un primo')\n",
    "            L.append(i)\n",
    "    return L"
   ]
  },
  {
   "cell_type": "code",
   "execution_count": 11,
   "id": "d73c3e86",
   "metadata": {},
   "outputs": [],
   "source": [
    "def generador(ini, fin, salto=1):\n",
    "    for i in range(ini, fin, salto):\n",
    "        if esPrimo(i):\n",
    "            print('generador encuentra un primo')\n",
    "            yield i"
   ]
  },
  {
   "cell_type": "markdown",
   "id": "8b6fe813",
   "metadata": {},
   "source": [
    "La función Lista calcula todos los números y los almacena en una\n",
    "lista."
   ]
  },
  {
   "cell_type": "code",
   "execution_count": 10,
   "id": "c2853233",
   "metadata": {},
   "outputs": [
    {
     "name": "stdout",
     "output_type": "stream",
     "text": [
      "Lista encuentra un primo\n",
      "Lista encuentra un primo\n",
      "Lista encuentra un primo\n",
      "Lista encuentra un primo\n",
      "Lista encuentra un primo\n",
      "Lista encuentra un primo\n",
      "Lista encuentra un primo\n",
      "Lista encuentra un primo\n",
      "Lista encuentra un primo\n",
      "2 3 5 7 11 13 17 19 23 "
     ]
    }
   ],
   "source": [
    "for i in lista(2,25):\n",
    "    print(i, end=' ')"
   ]
  },
  {
   "cell_type": "code",
   "execution_count": 14,
   "id": "dd6fb1ef",
   "metadata": {},
   "outputs": [
    {
     "name": "stdout",
     "output_type": "stream",
     "text": [
      "generador encuentra un primo\n",
      "generador encuentra un primo\n",
      "generador encuentra un primo\n",
      "generador encuentra un primo\n",
      "generador encuentra un primo\n",
      "generador encuentra un primo\n",
      "generador encuentra un primo\n",
      "generador encuentra un primo\n",
      "generador encuentra un primo\n",
      "generador encuentra un primo\n",
      "generador encuentra un primo\n",
      "generador encuentra un primo\n",
      "generador encuentra un primo\n",
      "generador encuentra un primo\n",
      "generador encuentra un primo\n"
     ]
    },
    {
     "data": {
      "text/plain": [
       "[2, 3, 5, 7, 11, 13, 17, 19, 23, 29, 31, 37, 41, 43, 47]"
      ]
     },
     "execution_count": 14,
     "metadata": {},
     "output_type": "execute_result"
    }
   ],
   "source": [
    "L = [i for i in generador(2,50)]\n",
    "L"
   ]
  },
  {
   "cell_type": "code",
   "execution_count": 13,
   "id": "7b012f36",
   "metadata": {},
   "outputs": [
    {
     "name": "stdout",
     "output_type": "stream",
     "text": [
      "generador encuentra un primo\n",
      "2\n",
      "generador encuentra un primo\n",
      "3\n",
      "generador encuentra un primo\n",
      "5\n",
      "generador encuentra un primo\n",
      "7\n",
      "generador encuentra un primo\n",
      "11\n",
      "generador encuentra un primo\n",
      "13\n",
      "generador encuentra un primo\n",
      "17\n",
      "generador encuentra un primo\n",
      "19\n",
      "generador encuentra un primo\n",
      "23\n"
     ]
    }
   ],
   "source": [
    "for i in generador(2,25):\n",
    "    print(i)"
   ]
  },
  {
   "cell_type": "code",
   "execution_count": null,
   "id": "48eaac2c",
   "metadata": {},
   "outputs": [],
   "source": []
  }
 ],
 "metadata": {
  "kernelspec": {
   "display_name": "Python 3 (ipykernel)",
   "language": "python",
   "name": "python3"
  },
  "language_info": {
   "codemirror_mode": {
    "name": "ipython",
    "version": 3
   },
   "file_extension": ".py",
   "mimetype": "text/x-python",
   "name": "python",
   "nbconvert_exporter": "python",
   "pygments_lexer": "ipython3",
   "version": "3.9.13"
  }
 },
 "nbformat": 4,
 "nbformat_minor": 5
}
