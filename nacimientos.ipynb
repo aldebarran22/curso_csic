{
 "cells": [
  {
   "cell_type": "markdown",
   "id": "9c7fede2",
   "metadata": {},
   "source": [
    "## Estudio de nacimientos"
   ]
  },
  {
   "cell_type": "code",
   "execution_count": 6,
   "id": "363b6442",
   "metadata": {},
   "outputs": [],
   "source": [
    "from nacimientos import filtrarFicheros, path\n",
    "import pandas as pd\n",
    "from pandas import DataFrame"
   ]
  },
  {
   "cell_type": "code",
   "execution_count": 7,
   "id": "204fab0a",
   "metadata": {},
   "outputs": [],
   "source": [
    "ini = 2000\n",
    "fin = 2002"
   ]
  },
  {
   "cell_type": "code",
   "execution_count": 18,
   "id": "1efb4808",
   "metadata": {},
   "outputs": [
    {
     "name": "stdout",
     "output_type": "stream",
     "text": [
      "Emily: 25953\n",
      "Emily: 25054\n",
      "Emily: 24460\n"
     ]
    },
    {
     "data": {
      "text/html": [
       "<div>\n",
       "<style scoped>\n",
       "    .dataframe tbody tr th:only-of-type {\n",
       "        vertical-align: middle;\n",
       "    }\n",
       "\n",
       "    .dataframe tbody tr th {\n",
       "        vertical-align: top;\n",
       "    }\n",
       "\n",
       "    .dataframe thead th {\n",
       "        text-align: right;\n",
       "    }\n",
       "</style>\n",
       "<table border=\"1\" class=\"dataframe\">\n",
       "  <thead>\n",
       "    <tr style=\"text-align: right;\">\n",
       "      <th></th>\n",
       "      <th></th>\n",
       "      <th>cont</th>\n",
       "    </tr>\n",
       "    <tr>\n",
       "      <th>nom</th>\n",
       "      <th>sex</th>\n",
       "      <th></th>\n",
       "    </tr>\n",
       "  </thead>\n",
       "  <tbody>\n",
       "    <tr>\n",
       "      <th>Jacob</th>\n",
       "      <th>M</th>\n",
       "      <td>97569.0</td>\n",
       "    </tr>\n",
       "    <tr>\n",
       "      <th>Michael</th>\n",
       "      <th>M</th>\n",
       "      <td>89957.0</td>\n",
       "    </tr>\n",
       "    <tr>\n",
       "      <th>Matthew</th>\n",
       "      <th>M</th>\n",
       "      <td>80526.0</td>\n",
       "    </tr>\n",
       "    <tr>\n",
       "      <th>Joshua</th>\n",
       "      <th>M</th>\n",
       "      <td>79533.0</td>\n",
       "    </tr>\n",
       "    <tr>\n",
       "      <th>Emily</th>\n",
       "      <th>F</th>\n",
       "      <td>75467.0</td>\n",
       "    </tr>\n",
       "  </tbody>\n",
       "</table>\n",
       "</div>"
      ],
      "text/plain": [
       "                cont\n",
       "nom     sex         \n",
       "Jacob   M    97569.0\n",
       "Michael M    89957.0\n",
       "Matthew M    80526.0\n",
       "Joshua  M    79533.0\n",
       "Emily   F    75467.0"
      ]
     },
     "execution_count": 18,
     "metadata": {},
     "output_type": "execute_result"
    }
   ],
   "source": [
    "L = filtrarFicheros(ini, fin)\n",
    "primero = True\n",
    "for f in L:\n",
    "    fich = path+\"/\"+f\n",
    "    dt = pd.read_csv(fich, header=None, \\\n",
    "                     names=['nom','sex','cont'])\n",
    "    dt = dt.set_index(['nom','sex'])\n",
    "    #print('Emily:',dt.loc['Emily'].loc['F']['cont'])\n",
    "    print('Emily:',dt.loc['Emily','F']['cont'])\n",
    "    if primero:\n",
    "        dtSuma = dt\n",
    "        primero = False\n",
    "    else:\n",
    "        dtSuma=dtSuma.add(dt, fill_value=0)\n",
    "        \n",
    "dtSuma.sort_values(by='cont', ascending=False, inplace=True)\n",
    "dtSuma.head()        "
   ]
  },
  {
   "cell_type": "code",
   "execution_count": null,
   "id": "9a55e0a3",
   "metadata": {},
   "outputs": [],
   "source": []
  }
 ],
 "metadata": {
  "kernelspec": {
   "display_name": "Python 3 (ipykernel)",
   "language": "python",
   "name": "python3"
  },
  "language_info": {
   "codemirror_mode": {
    "name": "ipython",
    "version": 3
   },
   "file_extension": ".py",
   "mimetype": "text/x-python",
   "name": "python",
   "nbconvert_exporter": "python",
   "pygments_lexer": "ipython3",
   "version": "3.9.13"
  }
 },
 "nbformat": 4,
 "nbformat_minor": 5
}
