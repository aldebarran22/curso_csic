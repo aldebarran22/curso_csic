{
 "cells": [
  {
   "cell_type": "markdown",
   "id": "b990ed96",
   "metadata": {},
   "source": [
    "## Gráficas: Países con mayor facturación"
   ]
  },
  {
   "cell_type": "code",
   "execution_count": 30,
   "id": "68e5123f",
   "metadata": {},
   "outputs": [],
   "source": [
    "import pandas as pd\n",
    "import matplotlib.pyplot as plt\n",
    "from os.path import isfile\n",
    "import sqlite3 as dbapi\n",
    "from matplotlib.backends.backend_pdf import PdfPages"
   ]
  },
  {
   "cell_type": "code",
   "execution_count": 5,
   "id": "043e2537",
   "metadata": {},
   "outputs": [],
   "source": [
    "path = '../practicas/BBDD/empresa3.db'"
   ]
  },
  {
   "cell_type": "code",
   "execution_count": 7,
   "id": "69c0b33b",
   "metadata": {},
   "outputs": [],
   "source": [
    "def getDatos(path, sql):\n",
    "    if not isfile(path):\n",
    "        raise ValueError('No se encuentra el fich:'+path)\n",
    "    else:        \n",
    "        # Conectar con la BD\n",
    "        con = None\n",
    "        try:\n",
    "            con = dbapi.connect(path)\n",
    "            return pd.read_sql(sql, con)\n",
    "        \n",
    "        except Exception as e:\n",
    "            raise e\n",
    "        finally:\n",
    "            if con: con.close()\n",
    "        "
   ]
  },
  {
   "cell_type": "code",
   "execution_count": 8,
   "id": "e4abb382",
   "metadata": {},
   "outputs": [],
   "source": [
    "sql = \"\"\"select pais, sum(importe)  as total from pedidos\n",
    "group by pais order by 2 desc\"\"\""
   ]
  },
  {
   "cell_type": "markdown",
   "id": "9d1d2402",
   "metadata": {},
   "source": [
    "Llamar a la función, obtener los 5 primeros y generar\n",
    "una gráfica de tarta con los países que más facturan:\n",
    "plt.pie(valores, etiquetas)\n"
   ]
  },
  {
   "cell_type": "code",
   "execution_count": 15,
   "id": "91c47853",
   "metadata": {},
   "outputs": [
    {
     "data": {
      "text/html": [
       "<div>\n",
       "<style scoped>\n",
       "    .dataframe tbody tr th:only-of-type {\n",
       "        vertical-align: middle;\n",
       "    }\n",
       "\n",
       "    .dataframe tbody tr th {\n",
       "        vertical-align: top;\n",
       "    }\n",
       "\n",
       "    .dataframe thead th {\n",
       "        text-align: right;\n",
       "    }\n",
       "</style>\n",
       "<table border=\"1\" class=\"dataframe\">\n",
       "  <thead>\n",
       "    <tr style=\"text-align: right;\">\n",
       "      <th></th>\n",
       "      <th>pais</th>\n",
       "      <th>total</th>\n",
       "    </tr>\n",
       "  </thead>\n",
       "  <tbody>\n",
       "    <tr>\n",
       "      <th>0</th>\n",
       "      <td>Estados Unidos</td>\n",
       "      <td>13783.33</td>\n",
       "    </tr>\n",
       "    <tr>\n",
       "      <th>1</th>\n",
       "      <td>Alemania</td>\n",
       "      <td>11283.28</td>\n",
       "    </tr>\n",
       "    <tr>\n",
       "      <th>2</th>\n",
       "      <td>Austria</td>\n",
       "      <td>7391.50</td>\n",
       "    </tr>\n",
       "    <tr>\n",
       "      <th>3</th>\n",
       "      <td>Brasil</td>\n",
       "      <td>4880.19</td>\n",
       "    </tr>\n",
       "    <tr>\n",
       "      <th>4</th>\n",
       "      <td>Francia</td>\n",
       "      <td>4205.46</td>\n",
       "    </tr>\n",
       "  </tbody>\n",
       "</table>\n",
       "</div>"
      ],
      "text/plain": [
       "             pais     total\n",
       "0  Estados Unidos  13783.33\n",
       "1        Alemania  11283.28\n",
       "2         Austria   7391.50\n",
       "3          Brasil   4880.19\n",
       "4         Francia   4205.46"
      ]
     },
     "execution_count": 15,
     "metadata": {},
     "output_type": "execute_result"
    }
   ],
   "source": [
    "dt = getDatos(path, sql)\n",
    "dt = dt.loc[:4]\n",
    "dt"
   ]
  },
  {
   "cell_type": "code",
   "execution_count": 34,
   "id": "86dec148",
   "metadata": {},
   "outputs": [
    {
     "data": {
      "image/png": "[encoded data removed]",
      "text/plain": [
       "<Figure size 640x480 with 1 Axes>"
      ]
     },
     "metadata": {},
     "output_type": "display_data"
    }
   ],
   "source": [
    "plt.title('Top 5 países')\n",
    "plt.pie(dt.total, labels=dt.pais, \\\n",
    "        labeldistance=0.7,shadow=True)\n",
    "\n",
    "# Generar PNG\n",
    "plt.savefig('paises.png')\n",
    "\n",
    "# Generar PDF\n",
    "pp = PdfPages(\"paises.pdf\")\n",
    "pp.savefig()\n",
    "pp.close()"
   ]
  },
  {
   "cell_type": "code",
   "execution_count": 28,
   "id": "ccbe2309",
   "metadata": {},
   "outputs": [
    {
     "data": {
      "text/plain": [
       "<Figure size 640x480 with 0 Axes>"
      ]
     },
     "metadata": {},
     "output_type": "display_data"
    }
   ],
   "source": []
  },
  {
   "cell_type": "code",
   "execution_count": null,
   "id": "732a5262",
   "metadata": {},
   "outputs": [],
   "source": []
  }
 ],
 "metadata": {
  "kernelspec": {
   "display_name": "Python 3 (ipykernel)",
   "language": "python",
   "name": "python3"
  },
  "language_info": {
   "codemirror_mode": {
    "name": "ipython",
    "version": 3
   },
   "file_extension": ".py",
   "mimetype": "text/x-python",
   "name": "python",
   "nbconvert_exporter": "python",
   "pygments_lexer": "ipython3",
   "version": "3.9.13"
  }
 },
 "nbformat": 4,
 "nbformat_minor": 5
}
