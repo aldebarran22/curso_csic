{
 "cells": [
  {
   "cell_type": "markdown",
   "id": "ff866c0a",
   "metadata": {},
   "source": [
    "## Pruebas con pandas: Series"
   ]
  },
  {
   "cell_type": "code",
   "execution_count": 4,
   "id": "fa5120d9",
   "metadata": {},
   "outputs": [],
   "source": [
    "import numpy as np\n",
    "import pandas as pd\n",
    "from pandas import Series, DataFrame\n",
    "import string"
   ]
  },
  {
   "cell_type": "code",
   "execution_count": 9,
   "id": "89e6279b",
   "metadata": {},
   "outputs": [],
   "source": [
    "L = list(range(10))\n",
    "arr = np.arange(10)\n",
    "s1 = Series(L, index=list(string.ascii_letters[:len(L)]))\n",
    "s2 = Series(arr,list(string.ascii_letters[:len(L)]))"
   ]
  },
  {
   "cell_type": "code",
   "execution_count": 10,
   "id": "3902f014",
   "metadata": {},
   "outputs": [
    {
     "data": {
      "text/plain": [
       "a    0\n",
       "b    1\n",
       "c    2\n",
       "d    3\n",
       "e    4\n",
       "f    5\n",
       "g    6\n",
       "h    7\n",
       "i    8\n",
       "j    9\n",
       "dtype: int64"
      ]
     },
     "execution_count": 10,
     "metadata": {},
     "output_type": "execute_result"
    }
   ],
   "source": [
    "s1"
   ]
  },
  {
   "cell_type": "code",
   "execution_count": 11,
   "id": "9070c3dc",
   "metadata": {},
   "outputs": [
    {
     "data": {
      "text/plain": [
       "a     0\n",
       "b     2\n",
       "c     4\n",
       "d     6\n",
       "e     8\n",
       "f    10\n",
       "g    12\n",
       "h    14\n",
       "i    16\n",
       "j    18\n",
       "dtype: int64"
      ]
     },
     "execution_count": 11,
     "metadata": {},
     "output_type": "execute_result"
    }
   ],
   "source": [
    "s1+s2"
   ]
  },
  {
   "cell_type": "code",
   "execution_count": 12,
   "id": "77de2e2c",
   "metadata": {},
   "outputs": [
    {
     "data": {
      "text/plain": [
       "a    0.0\n",
       "b    NaN\n",
       "c    3.0\n",
       "d    5.0\n",
       "e    NaN\n",
       "dtype: float64"
      ]
     },
     "execution_count": 12,
     "metadata": {},
     "output_type": "execute_result"
    }
   ],
   "source": [
    "s1 = Series(list(range(4)), index=['a','c','d','e'])\n",
    "s2 = Series(list(range(4)), index=['a','b','c','d'])\n",
    "s1+s2"
   ]
  },
  {
   "cell_type": "code",
   "execution_count": 13,
   "id": "40dbdb44",
   "metadata": {},
   "outputs": [
    {
     "data": {
      "text/plain": [
       "a    5\n",
       "c    6\n",
       "d    7\n",
       "e    8\n",
       "dtype: int64"
      ]
     },
     "execution_count": 13,
     "metadata": {},
     "output_type": "execute_result"
    }
   ],
   "source": [
    "s1 + 5"
   ]
  },
  {
   "cell_type": "code",
   "execution_count": 20,
   "id": "75ea03f9",
   "metadata": {},
   "outputs": [
    {
     "name": "stdout",
     "output_type": "stream",
     "text": [
      "Index(['a', 'c', 'd', 'e'], dtype='object')\n",
      "0\n",
      "a    0\n",
      "c    1\n",
      "d    2\n",
      "dtype: int64\n",
      "a    0\n",
      "c    1\n",
      "e    3\n",
      "dtype: int64\n",
      "c    1\n",
      "d    2\n",
      "dtype: int64\n"
     ]
    }
   ],
   "source": [
    "print(s1.index)\n",
    "print(s1['a'])\n",
    "print(s1['a':'d'])\n",
    "print(s1[['a','c','e']])\n",
    "print(s1[1:3])"
   ]
  },
  {
   "cell_type": "code",
   "execution_count": 17,
   "id": "fa96a16e",
   "metadata": {},
   "outputs": [
    {
     "data": {
      "text/plain": [
       "0"
      ]
     },
     "execution_count": 17,
     "metadata": {},
     "output_type": "execute_result"
    }
   ],
   "source": [
    "s1[0]"
   ]
  },
  {
   "cell_type": "code",
   "execution_count": 22,
   "id": "c2fe41ba",
   "metadata": {},
   "outputs": [
    {
     "data": {
      "text/plain": [
       "a    48\n",
       "b    27\n",
       "c    60\n",
       "d    92\n",
       "e    70\n",
       "f    10\n",
       "g    45\n",
       "h    38\n",
       "i    26\n",
       "j    13\n",
       "dtype: int64"
      ]
     },
     "execution_count": 22,
     "metadata": {},
     "output_type": "execute_result"
    }
   ],
   "source": [
    "n = len(string.ascii_letters)\n",
    "arr = np.random.randint(0,100, n)\n",
    "s = Series(arr, index=list(string.ascii_letters))\n",
    "s[:10]"
   ]
  },
  {
   "cell_type": "code",
   "execution_count": 24,
   "id": "b0121de5",
   "metadata": {},
   "outputs": [
    {
     "data": {
      "text/plain": [
       "a    48\n",
       "g    45\n",
       "z    43\n",
       "T    42\n",
       "W    46\n",
       "dtype: int64"
      ]
     },
     "execution_count": 24,
     "metadata": {},
     "output_type": "execute_result"
    }
   ],
   "source": [
    "s[(s > 40) & (s < 50)]"
   ]
  },
  {
   "cell_type": "code",
   "execution_count": 25,
   "id": "b630a9c3",
   "metadata": {},
   "outputs": [],
   "source": [
    "s[(s > 40) & (s < 50)]=0"
   ]
  },
  {
   "cell_type": "code",
   "execution_count": 26,
   "id": "8a3c6191",
   "metadata": {},
   "outputs": [
    {
     "data": {
      "text/plain": [
       "a    1.000000e+00\n",
       "b    5.320482e+11\n",
       "c    1.142007e+26\n",
       "d    9.017628e+39\n",
       "e    2.515439e+30\n",
       "dtype: float64"
      ]
     },
     "execution_count": 26,
     "metadata": {},
     "output_type": "execute_result"
    }
   ],
   "source": [
    "s2 = np.exp(s)\n",
    "s2[:5]"
   ]
  },
  {
   "cell_type": "code",
   "execution_count": null,
   "id": "5bc94059",
   "metadata": {},
   "outputs": [],
   "source": []
  },
  {
   "cell_type": "code",
   "execution_count": null,
   "id": "4f724d87",
   "metadata": {},
   "outputs": [],
   "source": []
  }
 ],
 "metadata": {
  "kernelspec": {
   "display_name": "Python 3 (ipykernel)",
   "language": "python",
   "name": "python3"
  },
  "language_info": {
   "codemirror_mode": {
    "name": "ipython",
    "version": 3
   },
   "file_extension": ".py",
   "mimetype": "text/x-python",
   "name": "python",
   "nbconvert_exporter": "python",
   "pygments_lexer": "ipython3",
   "version": "3.9.13"
  }
 },
 "nbformat": 4,
 "nbformat_minor": 5
}
