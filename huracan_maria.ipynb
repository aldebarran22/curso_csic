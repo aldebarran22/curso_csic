{
 "cells": [
  {
   "cell_type": "markdown",
   "id": "788ca39f",
   "metadata": {},
   "source": [
    "## Estudio huracán María"
   ]
  },
  {
   "cell_type": "markdown",
   "id": "4be6c683",
   "metadata": {},
   "source": [
    "Calcular la correlación de dos variables: velocidad en nudos y presión atmosférica"
   ]
  },
  {
   "cell_type": "code",
   "execution_count": 1,
   "id": "ee72202f",
   "metadata": {},
   "outputs": [],
   "source": [
    "import numpy as np\n",
    "import pandas as pd"
   ]
  },
  {
   "cell_type": "code",
   "execution_count": 2,
   "id": "8f3b153c",
   "metadata": {},
   "outputs": [],
   "source": [
    "path = \"../practicas/mat_plot_lib/huracan_maria.csv\""
   ]
  },
  {
   "cell_type": "code",
   "execution_count": 6,
   "id": "4014a5a9",
   "metadata": {},
   "outputs": [
    {
     "data": {
      "text/html": [
       "<div>\n",
       "<style scoped>\n",
       "    .dataframe tbody tr th:only-of-type {\n",
       "        vertical-align: middle;\n",
       "    }\n",
       "\n",
       "    .dataframe tbody tr th {\n",
       "        vertical-align: top;\n",
       "    }\n",
       "\n",
       "    .dataframe thead th {\n",
       "        text-align: right;\n",
       "    }\n",
       "</style>\n",
       "<table border=\"1\" class=\"dataframe\">\n",
       "  <thead>\n",
       "    <tr style=\"text-align: right;\">\n",
       "      <th></th>\n",
       "      <th>FECHA</th>\n",
       "      <th>HORA</th>\n",
       "      <th>LATITUD</th>\n",
       "      <th>LONGITUD</th>\n",
       "      <th>NUDOS</th>\n",
       "      <th>PRESION</th>\n",
       "    </tr>\n",
       "  </thead>\n",
       "  <tbody>\n",
       "    <tr>\n",
       "      <th>0</th>\n",
       "      <td>sep-16</td>\n",
       "      <td>15:00 GMT</td>\n",
       "      <td>12.2</td>\n",
       "      <td>-50.5</td>\n",
       "      <td>35</td>\n",
       "      <td>1008</td>\n",
       "    </tr>\n",
       "    <tr>\n",
       "      <th>1</th>\n",
       "      <td>sep-16</td>\n",
       "      <td>18:00 GMT</td>\n",
       "      <td>11.9</td>\n",
       "      <td>-51.6</td>\n",
       "      <td>35</td>\n",
       "      <td>1006</td>\n",
       "    </tr>\n",
       "    <tr>\n",
       "      <th>2</th>\n",
       "      <td>sep-16</td>\n",
       "      <td>21:00 GMT</td>\n",
       "      <td>12.3</td>\n",
       "      <td>-52.6</td>\n",
       "      <td>50</td>\n",
       "      <td>1002</td>\n",
       "    </tr>\n",
       "    <tr>\n",
       "      <th>3</th>\n",
       "      <td>sep-17</td>\n",
       "      <td>00:00 GMT</td>\n",
       "      <td>12.4</td>\n",
       "      <td>-53.0</td>\n",
       "      <td>50</td>\n",
       "      <td>1002</td>\n",
       "    </tr>\n",
       "    <tr>\n",
       "      <th>4</th>\n",
       "      <td>sep-17</td>\n",
       "      <td>03:00 GMT</td>\n",
       "      <td>12.5</td>\n",
       "      <td>-53.7</td>\n",
       "      <td>50</td>\n",
       "      <td>1002</td>\n",
       "    </tr>\n",
       "  </tbody>\n",
       "</table>\n",
       "</div>"
      ],
      "text/plain": [
       "    FECHA       HORA  LATITUD  LONGITUD  NUDOS  PRESION\n",
       "0  sep-16  15:00 GMT     12.2     -50.5     35     1008\n",
       "1  sep-16  18:00 GMT     11.9     -51.6     35     1006\n",
       "2  sep-16  21:00 GMT     12.3     -52.6     50     1002\n",
       "3  sep-17  00:00 GMT     12.4     -53.0     50     1002\n",
       "4  sep-17  03:00 GMT     12.5     -53.7     50     1002"
      ]
     },
     "execution_count": 6,
     "metadata": {},
     "output_type": "execute_result"
    }
   ],
   "source": [
    "dtHuracan = pd.read_csv(path, sep=';')\n",
    "dtHuracan.head()"
   ]
  },
  {
   "cell_type": "code",
   "execution_count": 4,
   "id": "1cec2fbf",
   "metadata": {},
   "outputs": [
    {
     "data": {
      "text/plain": [
       "(120, 6)"
      ]
     },
     "execution_count": 4,
     "metadata": {},
     "output_type": "execute_result"
    }
   ],
   "source": [
    "dtHuracan.shape"
   ]
  },
  {
   "cell_type": "code",
   "execution_count": 12,
   "id": "3ed924cf",
   "metadata": {},
   "outputs": [
    {
     "data": {
      "text/plain": [
       "array([[ 1.        , -0.95481815],\n",
       "       [-0.95481815,  1.        ]])"
      ]
     },
     "execution_count": 12,
     "metadata": {},
     "output_type": "execute_result"
    }
   ],
   "source": [
    "nudos = dtHuracan['NUDOS'].values\n",
    "presion = dtHuracan['PRESION'].values\n",
    "t = np.corrcoef(nudos, presion)\n",
    "t\n"
   ]
  },
  {
   "cell_type": "code",
   "execution_count": 13,
   "id": "4a2b17c5",
   "metadata": {},
   "outputs": [
    {
     "data": {
      "text/plain": [
       "-95.4818"
      ]
     },
     "execution_count": 13,
     "metadata": {},
     "output_type": "execute_result"
    }
   ],
   "source": [
    "corr = round(t[0,1]*100, 4)\n",
    "corr"
   ]
  },
  {
   "cell_type": "code",
   "execution_count": 14,
   "id": "6415609a",
   "metadata": {},
   "outputs": [
    {
     "data": {
      "text/plain": [
       "175"
      ]
     },
     "execution_count": 14,
     "metadata": {},
     "output_type": "execute_result"
    }
   ],
   "source": [
    "velMax = np.max(nudos)\n",
    "velMax"
   ]
  },
  {
   "cell_type": "code",
   "execution_count": 15,
   "id": "60b9b159",
   "metadata": {},
   "outputs": [
    {
     "data": {
      "text/plain": [
       "37"
      ]
     },
     "execution_count": 15,
     "metadata": {},
     "output_type": "execute_result"
    }
   ],
   "source": [
    "ind_max = np.argmax(nudos)\n",
    "ind_max"
   ]
  },
  {
   "cell_type": "code",
   "execution_count": 16,
   "id": "3c1f3149",
   "metadata": {},
   "outputs": [
    {
     "data": {
      "text/plain": [
       "FECHA          sep-19\n",
       "HORA        23:00 GMT\n",
       "LATITUD          16.9\n",
       "LONGITUD        -64.1\n",
       "NUDOS             175\n",
       "PRESION           909\n",
       "Name: 37, dtype: object"
      ]
     },
     "execution_count": 16,
     "metadata": {},
     "output_type": "execute_result"
    }
   ],
   "source": [
    "dtHuracan.iloc[ind_max]"
   ]
  },
  {
   "cell_type": "code",
   "execution_count": 18,
   "id": "dce9515b",
   "metadata": {},
   "outputs": [
    {
     "data": {
      "text/plain": [
       "array([ 35,  50,  60,  65,  70,  75,  80,  85,  90, 105, 110, 115, 120,\n",
       "       125, 130, 140, 145, 150, 155, 160, 165, 175])"
      ]
     },
     "execution_count": 18,
     "metadata": {},
     "output_type": "execute_result"
    }
   ],
   "source": [
    "np.unique(dtHuracan.NUDOS)"
   ]
  },
  {
   "cell_type": "code",
   "execution_count": 22,
   "id": "e7eaf728",
   "metadata": {},
   "outputs": [
    {
     "data": {
      "text/plain": [
       "array([1.4  , 1.401, 2.5  , 3.1  , 5.   , 6.   , 7.   ])"
      ]
     },
     "execution_count": 22,
     "metadata": {},
     "output_type": "execute_result"
    }
   ],
   "source": [
    "np.unique([1.401,1.4,1.4,2.5,2.5,3.1,5,6,7])"
   ]
  },
  {
   "cell_type": "code",
   "execution_count": null,
   "id": "66512e38",
   "metadata": {},
   "outputs": [],
   "source": []
  }
 ],
 "metadata": {
  "kernelspec": {
   "display_name": "Python 3 (ipykernel)",
   "language": "python",
   "name": "python3"
  },
  "language_info": {
   "codemirror_mode": {
    "name": "ipython",
    "version": 3
   },
   "file_extension": ".py",
   "mimetype": "text/x-python",
   "name": "python",
   "nbconvert_exporter": "python",
   "pygments_lexer": "ipython3",
   "version": "3.9.13"
  }
 },
 "nbformat": 4,
 "nbformat_minor": 5
}
